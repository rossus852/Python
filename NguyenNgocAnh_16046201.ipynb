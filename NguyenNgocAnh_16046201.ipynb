{
  "nbformat": 4,
  "nbformat_minor": 0,
  "metadata": {
    "colab": {
      "name": "NguyenNgocAnh_16046201.ipynb",
      "provenance": [],
      "collapsed_sections": [],
      "authorship_tag": "ABX9TyOgr6zKs23139qPGDkyG3K6",
      "include_colab_link": true
    },
    "kernelspec": {
      "name": "python3",
      "display_name": "Python 3"
    }
  },
  "cells": [
    {
      "cell_type": "markdown",
      "metadata": {
        "id": "view-in-github",
        "colab_type": "text"
      },
      "source": [
        "<a href=\"https://colab.research.google.com/github/rossus852/Python/blob/master/NguyenNgocAnh_16046201.ipynb\" target=\"_parent\"><img src=\"https://colab.research.google.com/assets/colab-badge.svg\" alt=\"Open In Colab\"/></a>"
      ]
    },
    {
      "cell_type": "markdown",
      "metadata": {
        "id": "YrCmCDTOxt9p"
      },
      "source": [
        "Lập trình phân tích dữ liệu 2 - Nguyễn Ngọc Anh - 16046201"
      ]
    },
    {
      "cell_type": "code",
      "metadata": {
        "id": "EQVfZ9gHsP6R"
      },
      "source": [
        "import numpy as np\r\n",
        "import seaborn as sb\r\n",
        "import pandas as pd\r\n",
        "from matplotlib import pyplot as plt"
      ],
      "execution_count": 1,
      "outputs": []
    },
    {
      "cell_type": "code",
      "metadata": {
        "id": "ATzwPJcN1EWV"
      },
      "source": [
        "db=pd.read_excel('/content/KQThiLyThuyet-26.12.2020_ca2.xls')"
      ],
      "execution_count": 2,
      "outputs": []
    },
    {
      "cell_type": "code",
      "metadata": {
        "colab": {
          "base_uri": "https://localhost:8080/",
          "height": 419
        },
        "id": "ovh0NCGl1NPa",
        "outputId": "f7ef576c-2aba-4d70-f25b-063263409c43"
      },
      "source": [
        "db"
      ],
      "execution_count": 3,
      "outputs": [
        {
          "output_type": "execute_result",
          "data": {
            "text/html": [
              "<div>\n",
              "<style scoped>\n",
              "    .dataframe tbody tr th:only-of-type {\n",
              "        vertical-align: middle;\n",
              "    }\n",
              "\n",
              "    .dataframe tbody tr th {\n",
              "        vertical-align: top;\n",
              "    }\n",
              "\n",
              "    .dataframe thead th {\n",
              "        text-align: right;\n",
              "    }\n",
              "</style>\n",
              "<table border=\"1\" class=\"dataframe\">\n",
              "  <thead>\n",
              "    <tr style=\"text-align: right;\">\n",
              "      <th></th>\n",
              "      <th>STT</th>\n",
              "      <th>Mã SV</th>\n",
              "      <th>Họ đệm</th>\n",
              "      <th>Tên</th>\n",
              "      <th>Giới tính</th>\n",
              "      <th>Ngày sinh</th>\n",
              "      <th>Điểm</th>\n",
              "      <th>Điểm.1</th>\n",
              "    </tr>\n",
              "  </thead>\n",
              "  <tbody>\n",
              "    <tr>\n",
              "      <th>0</th>\n",
              "      <td>1</td>\n",
              "      <td>18066431</td>\n",
              "      <td>Đỗ Huy Quốc</td>\n",
              "      <td>An</td>\n",
              "      <td>Nữ</td>\n",
              "      <td>2000-08-11 00:00:00</td>\n",
              "      <td>5.0</td>\n",
              "      <td>5.0</td>\n",
              "    </tr>\n",
              "    <tr>\n",
              "      <th>1</th>\n",
              "      <td>2</td>\n",
              "      <td>18031341</td>\n",
              "      <td>Hồ Văn Công</td>\n",
              "      <td>Anh</td>\n",
              "      <td>Nữ</td>\n",
              "      <td>27/09/2000</td>\n",
              "      <td>5.5</td>\n",
              "      <td>5.5</td>\n",
              "    </tr>\n",
              "    <tr>\n",
              "      <th>2</th>\n",
              "      <td>4</td>\n",
              "      <td>19462511</td>\n",
              "      <td>Nguyễn Thị Tuyết</td>\n",
              "      <td>Anh</td>\n",
              "      <td>Nữ</td>\n",
              "      <td>2001-01-01 00:00:00</td>\n",
              "      <td>6.3</td>\n",
              "      <td>6.5</td>\n",
              "    </tr>\n",
              "    <tr>\n",
              "      <th>3</th>\n",
              "      <td>5</td>\n",
              "      <td>18002951</td>\n",
              "      <td>Bùi Thái</td>\n",
              "      <td>Bình</td>\n",
              "      <td>Nữ</td>\n",
              "      <td>25/09/2000</td>\n",
              "      <td>5.8</td>\n",
              "      <td>6.0</td>\n",
              "    </tr>\n",
              "    <tr>\n",
              "      <th>4</th>\n",
              "      <td>6</td>\n",
              "      <td>18024551</td>\n",
              "      <td>Bùi Kim</td>\n",
              "      <td>Chi</td>\n",
              "      <td>Nữ</td>\n",
              "      <td>2000-04-06 00:00:00</td>\n",
              "      <td>7.0</td>\n",
              "      <td>7.0</td>\n",
              "    </tr>\n",
              "    <tr>\n",
              "      <th>...</th>\n",
              "      <td>...</td>\n",
              "      <td>...</td>\n",
              "      <td>...</td>\n",
              "      <td>...</td>\n",
              "      <td>...</td>\n",
              "      <td>...</td>\n",
              "      <td>...</td>\n",
              "      <td>...</td>\n",
              "    </tr>\n",
              "    <tr>\n",
              "      <th>59</th>\n",
              "      <td>61</td>\n",
              "      <td>18015761</td>\n",
              "      <td>Đỗ Thị Lan</td>\n",
              "      <td>Vân</td>\n",
              "      <td>Nữ</td>\n",
              "      <td>2000-08-12 00:00:00</td>\n",
              "      <td>5.5</td>\n",
              "      <td>5.5</td>\n",
              "    </tr>\n",
              "    <tr>\n",
              "      <th>60</th>\n",
              "      <td>62</td>\n",
              "      <td>17071471</td>\n",
              "      <td>Trần Thùy</td>\n",
              "      <td>Vân</td>\n",
              "      <td>Nữ</td>\n",
              "      <td>NaN</td>\n",
              "      <td>4.5</td>\n",
              "      <td>4.5</td>\n",
              "    </tr>\n",
              "    <tr>\n",
              "      <th>61</th>\n",
              "      <td>63</td>\n",
              "      <td>18098621</td>\n",
              "      <td>Nguyễn Tường</td>\n",
              "      <td>Vy</td>\n",
              "      <td>Nữ</td>\n",
              "      <td>21/04/2000</td>\n",
              "      <td>4.8</td>\n",
              "      <td>5.0</td>\n",
              "    </tr>\n",
              "    <tr>\n",
              "      <th>62</th>\n",
              "      <td>64</td>\n",
              "      <td>17054331</td>\n",
              "      <td>Từ Thị Thảo</td>\n",
              "      <td>Vy</td>\n",
              "      <td>Nữ</td>\n",
              "      <td>18/12/1999</td>\n",
              "      <td>4.0</td>\n",
              "      <td>4.0</td>\n",
              "    </tr>\n",
              "    <tr>\n",
              "      <th>63</th>\n",
              "      <td>65</td>\n",
              "      <td>18020671</td>\n",
              "      <td>Đoàn Nhị Thiên</td>\n",
              "      <td>Y</td>\n",
              "      <td>Nữ</td>\n",
              "      <td>18/10/2000</td>\n",
              "      <td>6.0</td>\n",
              "      <td>6.0</td>\n",
              "    </tr>\n",
              "  </tbody>\n",
              "</table>\n",
              "<p>64 rows × 8 columns</p>\n",
              "</div>"
            ],
            "text/plain": [
              "    STT     Mã SV            Họ đệm  ...            Ngày sinh Điểm Điểm.1\n",
              "0     1  18066431       Đỗ Huy Quốc  ...  2000-08-11 00:00:00  5.0    5.0\n",
              "1     2  18031341       Hồ Văn Công  ...           27/09/2000  5.5    5.5\n",
              "2     4  19462511  Nguyễn Thị Tuyết  ...  2001-01-01 00:00:00  6.3    6.5\n",
              "3     5  18002951          Bùi Thái  ...           25/09/2000  5.8    6.0\n",
              "4     6  18024551           Bùi Kim  ...  2000-04-06 00:00:00  7.0    7.0\n",
              "..  ...       ...               ...  ...                  ...  ...    ...\n",
              "59   61  18015761        Đỗ Thị Lan  ...  2000-08-12 00:00:00  5.5    5.5\n",
              "60   62  17071471         Trần Thùy  ...                  NaN  4.5    4.5\n",
              "61   63  18098621      Nguyễn Tường  ...           21/04/2000  4.8    5.0\n",
              "62   64  17054331       Từ Thị Thảo  ...           18/12/1999  4.0    4.0\n",
              "63   65  18020671    Đoàn Nhị Thiên  ...           18/10/2000  6.0    6.0\n",
              "\n",
              "[64 rows x 8 columns]"
            ]
          },
          "metadata": {
            "tags": []
          },
          "execution_count": 3
        }
      ]
    },
    {
      "cell_type": "code",
      "metadata": {
        "colab": {
          "base_uri": "https://localhost:8080/"
        },
        "id": "KHIUIYJr1Ra1",
        "outputId": "c0140731-fb65-46c6-a586-5d04ece616d1"
      },
      "source": [
        "db.info()"
      ],
      "execution_count": 4,
      "outputs": [
        {
          "output_type": "stream",
          "text": [
            "<class 'pandas.core.frame.DataFrame'>\n",
            "RangeIndex: 64 entries, 0 to 63\n",
            "Data columns (total 8 columns):\n",
            " #   Column     Non-Null Count  Dtype  \n",
            "---  ------     --------------  -----  \n",
            " 0   STT        64 non-null     int64  \n",
            " 1   Mã SV      64 non-null     int64  \n",
            " 2   Họ đệm     64 non-null     object \n",
            " 3   Tên        64 non-null     object \n",
            " 4   Giới tính  64 non-null     object \n",
            " 5   Ngày sinh  60 non-null     object \n",
            " 6   Điểm       64 non-null     float64\n",
            " 7   Điểm.1     64 non-null     float64\n",
            "dtypes: float64(2), int64(2), object(4)\n",
            "memory usage: 4.1+ KB\n"
          ],
          "name": "stdout"
        }
      ]
    },
    {
      "cell_type": "code",
      "metadata": {
        "colab": {
          "base_uri": "https://localhost:8080/"
        },
        "id": "TqB2zC7_1kf-",
        "outputId": "e007e2e2-5e5f-48a8-a7c7-c29d20d1638f"
      },
      "source": [
        "db['Điểm'].isnull().sum()"
      ],
      "execution_count": 5,
      "outputs": [
        {
          "output_type": "execute_result",
          "data": {
            "text/plain": [
              "0"
            ]
          },
          "metadata": {
            "tags": []
          },
          "execution_count": 5
        }
      ]
    },
    {
      "cell_type": "code",
      "metadata": {
        "id": "FpNV5InC3K-W"
      },
      "source": [
        "db['Điểm'].fillna(db['Điểm'].mean(),inplace=True)"
      ],
      "execution_count": 6,
      "outputs": []
    },
    {
      "cell_type": "code",
      "metadata": {
        "colab": {
          "base_uri": "https://localhost:8080/"
        },
        "id": "DBHQNhMF3Viu",
        "outputId": "3eacb4f9-f581-41d7-e34a-306f575eeef9"
      },
      "source": [
        "db['Điểm'].isnull().sum()"
      ],
      "execution_count": 7,
      "outputs": [
        {
          "output_type": "execute_result",
          "data": {
            "text/plain": [
              "0"
            ]
          },
          "metadata": {
            "tags": []
          },
          "execution_count": 7
        }
      ]
    },
    {
      "cell_type": "code",
      "metadata": {
        "colab": {
          "base_uri": "https://localhost:8080/"
        },
        "id": "MJseqSKa2Jt3",
        "outputId": "b53c9322-f18b-4d31-e9ec-7e82d38f24ca"
      },
      "source": [
        "db['Điểm'].describe()"
      ],
      "execution_count": 8,
      "outputs": [
        {
          "output_type": "execute_result",
          "data": {
            "text/plain": [
              "count    64.000000\n",
              "mean      5.315625\n",
              "std       1.205703\n",
              "min       0.000000\n",
              "25%       4.725000\n",
              "50%       5.400000\n",
              "75%       6.300000\n",
              "max       7.000000\n",
              "Name: Điểm, dtype: float64"
            ]
          },
          "metadata": {
            "tags": []
          },
          "execution_count": 8
        }
      ]
    },
    {
      "cell_type": "code",
      "metadata": {
        "colab": {
          "base_uri": "https://localhost:8080/",
          "height": 487
        },
        "id": "KTe5Sdw79eyh",
        "outputId": "3e036ebf-347c-4183-d22d-dbbb11ff6969"
      },
      "source": [
        "db['Điểm'].hist(bins=10)\r\n",
        "plt.xlim(0,10)\r\n",
        "plt.ylim(0,30)\r\n",
        "plt.xlabel('Điểm')\r\n",
        "plt.ylabel('Count')\r\n",
        "plt.xticks(ticks=[0,1,2,3,4,5,6,7,8,9,10])"
      ],
      "execution_count": 9,
      "outputs": [
        {
          "output_type": "execute_result",
          "data": {
            "text/plain": [
              "([<matplotlib.axis.XTick at 0x7f7865088dd8>,\n",
              "  <matplotlib.axis.XTick at 0x7f7865088da0>,\n",
              "  <matplotlib.axis.XTick at 0x7f78650889e8>,\n",
              "  <matplotlib.axis.XTick at 0x7f7865046b70>,\n",
              "  <matplotlib.axis.XTick at 0x7f7865054198>,\n",
              "  <matplotlib.axis.XTick at 0x7f78650545f8>,\n",
              "  <matplotlib.axis.XTick at 0x7f7865054a90>,\n",
              "  <matplotlib.axis.XTick at 0x7f7865054f28>,\n",
              "  <matplotlib.axis.XTick at 0x7f786505a400>,\n",
              "  <matplotlib.axis.XTick at 0x7f786505a898>,\n",
              "  <matplotlib.axis.XTick at 0x7f786505ad30>],\n",
              " <a list of 11 Text major ticklabel objects>)"
            ]
          },
          "metadata": {
            "tags": []
          },
          "execution_count": 9
        },
        {
          "output_type": "display_data",
          "data": {
            "image/png": "[encoded data removed]",
            "text/plain": [
              "<Figure size 432x288 with 1 Axes>"
            ]
          },
          "metadata": {
            "tags": [],
            "needs_background": "light"
          }
        }
      ]
    },
    {
      "cell_type": "markdown",
      "metadata": {
        "id": "d_fjhPFc-i0h"
      },
      "source": [
        "Điểm số chủ yếu nằm trong khoảng từ 4-7 điểm\r\n",
        "\r\n",
        "Giá trị điểm chủ yếu là khoảng 5 điểm ( 25 giá trị)\r\n",
        "\r\n",
        "Giá trị điểm ít nhất là 0 điểm (1 giá trị)\r\n",
        "\r\n",
        "Không có giá trị trong khoảng từ 1-3 điểm và từ 7-10 điểm"
      ]
    },
    {
      "cell_type": "code",
      "metadata": {
        "colab": {
          "base_uri": "https://localhost:8080/",
          "height": 298
        },
        "id": "OcRDv_d6FDtJ",
        "outputId": "0deb77d9-8a78-4361-8bbc-84b3adac196c"
      },
      "source": [
        "sb.boxplot(data=db['Điểm'])\r\n",
        "plt.xlabel(\"Dữ liệu điểm\")"
      ],
      "execution_count": 10,
      "outputs": [
        {
          "output_type": "execute_result",
          "data": {
            "text/plain": [
              "Text(0.5, 0, 'Dữ liệu điểm')"
            ]
          },
          "metadata": {
            "tags": []
          },
          "execution_count": 10
        },
        {
          "output_type": "display_data",
          "data": {
            "image/png": "[encoded data removed]",
            "text/plain": [
              "<Figure size 432x288 with 1 Axes>"
            ]
          },
          "metadata": {
            "tags": [],
            "needs_background": "light"
          }
        }
      ]
    },
    {
      "cell_type": "markdown",
      "metadata": {
        "id": "J5orC83cF9Z6"
      },
      "source": [
        "Dữ liệu phân bố chủ yếu từ 3-7 điểm\r\n",
        "\r\n",
        "Giá trị trung bình của dữ liệu là khoảng 5.2\r\n",
        "\r\n",
        "Tứ phân vị của dữ liệu làn lượt là 3.5 ; 4,7 ; 6.3 ; 7\r\n",
        "\r\n",
        "Một số giá trị ngoài lề ở giá trị 0 điểm"
      ]
    },
    {
      "cell_type": "code",
      "metadata": {
        "colab": {
          "base_uri": "https://localhost:8080/",
          "height": 489
        },
        "id": "X8sTGUTbHQqR",
        "outputId": "02d6fe0d-3a7f-4f06-b3f3-f0521281ea76"
      },
      "source": [
        "sb.boxplot(data=db['Điểm'])\r\n",
        "plt.xlabel(\"Dữ liệu điểm\")\r\n",
        "plt.yticks(ticks=[0,1,2,3,4,5,6,7,8,9,10])"
      ],
      "execution_count": 11,
      "outputs": [
        {
          "output_type": "execute_result",
          "data": {
            "text/plain": [
              "([<matplotlib.axis.YTick at 0x7f7864af84a8>,\n",
              "  <matplotlib.axis.YTick at 0x7f7864af6e48>,\n",
              "  <matplotlib.axis.YTick at 0x7f7864ae6b70>,\n",
              "  <matplotlib.axis.YTick at 0x7f7864aac5c0>,\n",
              "  <matplotlib.axis.YTick at 0x7f7864aaca58>,\n",
              "  <matplotlib.axis.YTick at 0x7f7864aacef0>,\n",
              "  <matplotlib.axis.YTick at 0x7f7864ab53c8>,\n",
              "  <matplotlib.axis.YTick at 0x7f7864ab5860>,\n",
              "  <matplotlib.axis.YTick at 0x7f7864ab5cf8>,\n",
              "  <matplotlib.axis.YTick at 0x7f7864abd1d0>,\n",
              "  <matplotlib.axis.YTick at 0x7f7864ab57b8>],\n",
              " <a list of 11 Text major ticklabel objects>)"
            ]
          },
          "metadata": {
            "tags": []
          },
          "execution_count": 11
        },
        {
          "output_type": "display_data",
          "data": {
            "image/png": "[encoded data removed]",
            "text/plain": [
              "<Figure size 432x288 with 1 Axes>"
            ]
          },
          "metadata": {
            "tags": [],
            "needs_background": "light"
          }
        }
      ]
    },
    {
      "cell_type": "code",
      "metadata": {
        "colab": {
          "base_uri": "https://localhost:8080/",
          "height": 350
        },
        "id": "WGDKP9U2sBlh",
        "outputId": "9b3e83ee-c66c-4800-c83e-10c173f1f9fa"
      },
      "source": [
        "sb.countplot(db['Giới tính'])"
      ],
      "execution_count": 13,
      "outputs": [
        {
          "output_type": "stream",
          "text": [
            "/usr/local/lib/python3.6/dist-packages/seaborn/_decorators.py:43: FutureWarning: Pass the following variable as a keyword arg: x. From version 0.12, the only valid positional argument will be `data`, and passing other arguments without an explicit keyword will result in an error or misinterpretation.\n",
            "  FutureWarning\n"
          ],
          "name": "stderr"
        },
        {
          "output_type": "execute_result",
          "data": {
            "text/plain": [
              "<matplotlib.axes._subplots.AxesSubplot at 0x7f785c976e48>"
            ]
          },
          "metadata": {
            "tags": []
          },
          "execution_count": 13
        },
        {
          "output_type": "display_data",
          "data": {
            "image/png": "[encoded data removed]",
            "text/plain": [
              "<Figure size 432x288 with 1 Axes>"
            ]
          },
          "metadata": {
            "tags": [],
            "needs_background": "light"
          }
        }
      ]
    },
    {
      "cell_type": "code",
      "metadata": {
        "colab": {
          "base_uri": "https://localhost:8080/",
          "height": 296
        },
        "id": "CcrIE7YbtCRl",
        "outputId": "f3b6a1fb-5fde-469f-f425-a5aa7a9dd55c"
      },
      "source": [
        "sb.boxplot(x='Giới tính',y='Điểm',data=db)"
      ],
      "execution_count": 14,
      "outputs": [
        {
          "output_type": "execute_result",
          "data": {
            "text/plain": [
              "<matplotlib.axes._subplots.AxesSubplot at 0x7f785c8cc9b0>"
            ]
          },
          "metadata": {
            "tags": []
          },
          "execution_count": 14
        },
        {
          "output_type": "display_data",
          "data": {
            "image/png": "[encoded data removed]",
            "text/plain": [
              "<Figure size 432x288 with 1 Axes>"
            ]
          },
          "metadata": {
            "tags": [],
            "needs_background": "light"
          }
        }
      ]
    }
  ]
}