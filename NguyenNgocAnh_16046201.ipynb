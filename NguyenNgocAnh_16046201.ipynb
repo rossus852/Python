{
  "nbformat": 4,
  "nbformat_minor": 0,
  "metadata": {
    "colab": {
      "name": "NguyenNgocAnh_16046201.ipynb",
      "provenance": []
    },
    "kernelspec": {
      "name": "python3",
      "display_name": "Python 3"
    }
  },
  "cells": [
    {
      "cell_type": "markdown",
      "metadata": {
        "id": "YrCmCDTOxt9p"
      },
      "source": [
        "Lập trình phân tích dữ liệu 2 - Nguyễn Ngọc Anh - 16046201"
      ]
    },
    {
      "cell_type": "code",
      "metadata": {
        "id": "EQVfZ9gHsP6R"
      },
      "source": [
        "import numpy as np\r\n",
        "import seaborn as sb\r\n",
        "import pandas as pd\r\n",
        "from matplotlib import pyplot as plt"
      ],
      "execution_count": 2,
      "outputs": []
    },
    {
      "cell_type": "code",
      "metadata": {
        "id": "ATzwPJcN1EWV"
      },
      "source": [
        "db=pd.read_excel('/content/KQThiLyThuyet-26.12.2020_ca2.xls')"
      ],
      "execution_count": 4,
      "outputs": []
    },
    {
      "cell_type": "code",
      "metadata": {
        "colab": {
          "base_uri": "https://localhost:8080/",
          "height": 419
        },
        "id": "ovh0NCGl1NPa",
        "outputId": "bd59561d-6b33-4789-b662-99b18229e9db"
      },
      "source": [
        "db"
      ],
      "execution_count": 5,
      "outputs": [
        {
          "output_type": "execute_result",
          "data": {
            "text/html": [
              "<div>\n",
              "<style scoped>\n",
              "    .dataframe tbody tr th:only-of-type {\n",
              "        vertical-align: middle;\n",
              "    }\n",
              "\n",
              "    .dataframe tbody tr th {\n",
              "        vertical-align: top;\n",
              "    }\n",
              "\n",
              "    .dataframe thead th {\n",
              "        text-align: right;\n",
              "    }\n",
              "</style>\n",
              "<table border=\"1\" class=\"dataframe\">\n",
              "  <thead>\n",
              "    <tr style=\"text-align: right;\">\n",
              "      <th></th>\n",
              "      <th>STT</th>\n",
              "      <th>Mã SV</th>\n",
              "      <th>Họ đệm</th>\n",
              "      <th>Tên</th>\n",
              "      <th>Giới tính</th>\n",
              "      <th>Ngày sinh</th>\n",
              "      <th>Điểm</th>\n",
              "      <th>Điểm.1</th>\n",
              "    </tr>\n",
              "  </thead>\n",
              "  <tbody>\n",
              "    <tr>\n",
              "      <th>0</th>\n",
              "      <td>1.0</td>\n",
              "      <td>18066431.0</td>\n",
              "      <td>Đỗ Huy Quốc</td>\n",
              "      <td>An</td>\n",
              "      <td>Nữ</td>\n",
              "      <td>2000-08-11 00:00:00</td>\n",
              "      <td>5.0</td>\n",
              "      <td>5.0</td>\n",
              "    </tr>\n",
              "    <tr>\n",
              "      <th>1</th>\n",
              "      <td>2.0</td>\n",
              "      <td>18031341.0</td>\n",
              "      <td>Hồ Văn Công</td>\n",
              "      <td>Anh</td>\n",
              "      <td>Nữ</td>\n",
              "      <td>27/09/2000</td>\n",
              "      <td>5.5</td>\n",
              "      <td>5.5</td>\n",
              "    </tr>\n",
              "    <tr>\n",
              "      <th>2</th>\n",
              "      <td>4.0</td>\n",
              "      <td>19462511.0</td>\n",
              "      <td>Nguyễn Thị Tuyết</td>\n",
              "      <td>Anh</td>\n",
              "      <td>Nữ</td>\n",
              "      <td>2001-01-01 00:00:00</td>\n",
              "      <td>6.3</td>\n",
              "      <td>6.5</td>\n",
              "    </tr>\n",
              "    <tr>\n",
              "      <th>3</th>\n",
              "      <td>5.0</td>\n",
              "      <td>18002951.0</td>\n",
              "      <td>Bùi Thái</td>\n",
              "      <td>Bình</td>\n",
              "      <td>Nữ</td>\n",
              "      <td>25/09/2000</td>\n",
              "      <td>5.8</td>\n",
              "      <td>6.0</td>\n",
              "    </tr>\n",
              "    <tr>\n",
              "      <th>4</th>\n",
              "      <td>6.0</td>\n",
              "      <td>18024551.0</td>\n",
              "      <td>Bùi Kim</td>\n",
              "      <td>Chi</td>\n",
              "      <td>Nữ</td>\n",
              "      <td>2000-04-06 00:00:00</td>\n",
              "      <td>7.0</td>\n",
              "      <td>7.0</td>\n",
              "    </tr>\n",
              "    <tr>\n",
              "      <th>...</th>\n",
              "      <td>...</td>\n",
              "      <td>...</td>\n",
              "      <td>...</td>\n",
              "      <td>...</td>\n",
              "      <td>...</td>\n",
              "      <td>...</td>\n",
              "      <td>...</td>\n",
              "      <td>...</td>\n",
              "    </tr>\n",
              "    <tr>\n",
              "      <th>69</th>\n",
              "      <td>NaN</td>\n",
              "      <td>NaN</td>\n",
              "      <td>NaN</td>\n",
              "      <td>NaN</td>\n",
              "      <td>NaN</td>\n",
              "      <td>NaN</td>\n",
              "      <td>NaN</td>\n",
              "      <td>NaN</td>\n",
              "    </tr>\n",
              "    <tr>\n",
              "      <th>70</th>\n",
              "      <td>NaN</td>\n",
              "      <td>NaN</td>\n",
              "      <td>NaN</td>\n",
              "      <td>NaN</td>\n",
              "      <td>NaN</td>\n",
              "      <td>NaN</td>\n",
              "      <td>NaN</td>\n",
              "      <td>NaN</td>\n",
              "    </tr>\n",
              "    <tr>\n",
              "      <th>71</th>\n",
              "      <td>NaN</td>\n",
              "      <td>NaN</td>\n",
              "      <td>NaN</td>\n",
              "      <td>NaN</td>\n",
              "      <td>NaN</td>\n",
              "      <td>NaN</td>\n",
              "      <td>NaN</td>\n",
              "      <td>NaN</td>\n",
              "    </tr>\n",
              "    <tr>\n",
              "      <th>72</th>\n",
              "      <td>NaN</td>\n",
              "      <td>NaN</td>\n",
              "      <td>NaN</td>\n",
              "      <td>NaN</td>\n",
              "      <td>NaN</td>\n",
              "      <td>NaN</td>\n",
              "      <td>NaN</td>\n",
              "      <td>NaN</td>\n",
              "    </tr>\n",
              "    <tr>\n",
              "      <th>73</th>\n",
              "      <td>NaN</td>\n",
              "      <td>NaN</td>\n",
              "      <td>NaN</td>\n",
              "      <td>TS. Nguyễn Huy Phúc</td>\n",
              "      <td>NaN</td>\n",
              "      <td>NaN</td>\n",
              "      <td>NaN</td>\n",
              "      <td>NaN</td>\n",
              "    </tr>\n",
              "  </tbody>\n",
              "</table>\n",
              "<p>74 rows × 8 columns</p>\n",
              "</div>"
            ],
            "text/plain": [
              "    STT       Mã SV            Họ đệm  ...            Ngày sinh Điểm Điểm.1\n",
              "0   1.0  18066431.0       Đỗ Huy Quốc  ...  2000-08-11 00:00:00  5.0    5.0\n",
              "1   2.0  18031341.0       Hồ Văn Công  ...           27/09/2000  5.5    5.5\n",
              "2   4.0  19462511.0  Nguyễn Thị Tuyết  ...  2001-01-01 00:00:00  6.3    6.5\n",
              "3   5.0  18002951.0          Bùi Thái  ...           25/09/2000  5.8    6.0\n",
              "4   6.0  18024551.0           Bùi Kim  ...  2000-04-06 00:00:00  7.0    7.0\n",
              "..  ...         ...               ...  ...                  ...  ...    ...\n",
              "69  NaN         NaN               NaN  ...                  NaN  NaN    NaN\n",
              "70  NaN         NaN               NaN  ...                  NaN  NaN    NaN\n",
              "71  NaN         NaN               NaN  ...                  NaN  NaN    NaN\n",
              "72  NaN         NaN               NaN  ...                  NaN  NaN    NaN\n",
              "73  NaN         NaN               NaN  ...                  NaN  NaN    NaN\n",
              "\n",
              "[74 rows x 8 columns]"
            ]
          },
          "metadata": {
            "tags": []
          },
          "execution_count": 5
        }
      ]
    },
    {
      "cell_type": "code",
      "metadata": {
        "colab": {
          "base_uri": "https://localhost:8080/"
        },
        "id": "KHIUIYJr1Ra1",
        "outputId": "85d835c6-85c5-4b7e-c5fb-618c216299bf"
      },
      "source": [
        "db.info()"
      ],
      "execution_count": 7,
      "outputs": [
        {
          "output_type": "stream",
          "text": [
            "<class 'pandas.core.frame.DataFrame'>\n",
            "RangeIndex: 74 entries, 0 to 73\n",
            "Data columns (total 8 columns):\n",
            " #   Column     Non-Null Count  Dtype  \n",
            "---  ------     --------------  -----  \n",
            " 0   STT        64 non-null     float64\n",
            " 1   Mã SV      64 non-null     float64\n",
            " 2   Họ đệm     64 non-null     object \n",
            " 3   Tên        66 non-null     object \n",
            " 4   Giới tính  65 non-null     object \n",
            " 5   Ngày sinh  60 non-null     object \n",
            " 6   Điểm       64 non-null     float64\n",
            " 7   Điểm.1     64 non-null     float64\n",
            "dtypes: float64(4), object(4)\n",
            "memory usage: 4.8+ KB\n"
          ],
          "name": "stdout"
        }
      ]
    },
    {
      "cell_type": "code",
      "metadata": {
        "colab": {
          "base_uri": "https://localhost:8080/"
        },
        "id": "TqB2zC7_1kf-",
        "outputId": "77312f22-ad34-404b-86c7-435f31f38fbf"
      },
      "source": [
        "db['Điểm'].isnull().sum()"
      ],
      "execution_count": 8,
      "outputs": [
        {
          "output_type": "execute_result",
          "data": {
            "text/plain": [
              "10"
            ]
          },
          "metadata": {
            "tags": []
          },
          "execution_count": 8
        }
      ]
    },
    {
      "cell_type": "code",
      "metadata": {
        "id": "FpNV5InC3K-W"
      },
      "source": [
        "db['Điểm'].fillna(db['Điểm'].mean(),inplace=True)"
      ],
      "execution_count": 12,
      "outputs": []
    },
    {
      "cell_type": "code",
      "metadata": {
        "colab": {
          "base_uri": "https://localhost:8080/"
        },
        "id": "DBHQNhMF3Viu",
        "outputId": "7d85bf83-1df5-4ab8-facb-41700894e1df"
      },
      "source": [
        "db['Điểm'].isnull().sum()"
      ],
      "execution_count": 13,
      "outputs": [
        {
          "output_type": "execute_result",
          "data": {
            "text/plain": [
              "0"
            ]
          },
          "metadata": {
            "tags": []
          },
          "execution_count": 13
        }
      ]
    },
    {
      "cell_type": "code",
      "metadata": {
        "colab": {
          "base_uri": "https://localhost:8080/"
        },
        "id": "MJseqSKa2Jt3",
        "outputId": "84dff31e-fbfc-4640-c322-5cb6ad63a2df"
      },
      "source": [
        "db['Điểm'].describe()"
      ],
      "execution_count": 14,
      "outputs": [
        {
          "output_type": "execute_result",
          "data": {
            "text/plain": [
              "count    74.000000\n",
              "mean      5.315625\n",
              "std       1.120081\n",
              "min       0.000000\n",
              "25%       4.800000\n",
              "50%       5.315625\n",
              "75%       6.225000\n",
              "max       7.000000\n",
              "Name: Điểm, dtype: float64"
            ]
          },
          "metadata": {
            "tags": []
          },
          "execution_count": 14
        }
      ]
    },
    {
      "cell_type": "code",
      "metadata": {
        "colab": {
          "base_uri": "https://localhost:8080/",
          "height": 487
        },
        "id": "KTe5Sdw79eyh",
        "outputId": "c4cc1b38-1883-4913-8312-3d4a9be5148d"
      },
      "source": [
        "db['Điểm'].hist(bins=10)\r\n",
        "plt.xlim(0,10)\r\n",
        "plt.ylim(0,30)\r\n",
        "plt.xlabel('Điểm')\r\n",
        "plt.ylabel('Count')\r\n",
        "plt.xticks(ticks=[0,1,2,3,4,5,6,7,8,9,10])"
      ],
      "execution_count": 27,
      "outputs": [
        {
          "output_type": "execute_result",
          "data": {
            "text/plain": [
              "([<matplotlib.axis.XTick at 0x7f2238cc0198>,\n",
              "  <matplotlib.axis.XTick at 0x7f2238cc0160>,\n",
              "  <matplotlib.axis.XTick at 0x7f2238cb1400>,\n",
              "  <matplotlib.axis.XTick at 0x7f2238c6f5f8>,\n",
              "  <matplotlib.axis.XTick at 0x7f2238c6fba8>,\n",
              "  <matplotlib.axis.XTick at 0x7f2238c6f7f0>,\n",
              "  <matplotlib.axis.XTick at 0x7f2238c77278>,\n",
              "  <matplotlib.axis.XTick at 0x7f2238c77710>,\n",
              "  <matplotlib.axis.XTick at 0x7f2238c77ba8>,\n",
              "  <matplotlib.axis.XTick at 0x7f2238c7f0f0>,\n",
              "  <matplotlib.axis.XTick at 0x7f2238c7f518>],\n",
              " <a list of 11 Text major ticklabel objects>)"
            ]
          },
          "metadata": {
            "tags": []
          },
          "execution_count": 27
        },
        {
          "output_type": "display_data",
          "data": {
            "image/png": "[encoded data removed]",
            "text/plain": [
              "<Figure size 432x288 with 1 Axes>"
            ]
          },
          "metadata": {
            "tags": [],
            "needs_background": "light"
          }
        }
      ]
    },
    {
      "cell_type": "markdown",
      "metadata": {
        "id": "d_fjhPFc-i0h"
      },
      "source": [
        "Điểm số chủ yếu nằm trong khoảng từ 4-7 điểm\r\n",
        "\r\n",
        "Giá trị điểm chủ yếu là khoảng 5 điểm ( 25 giá trị)\r\n",
        "\r\n",
        "Giá trị điểm ít nhất là 0 điểm (1 giá trị)\r\n",
        "\r\n",
        "Không có giá trị trong khoảng từ 1-3 điểm và từ 7-10 điểm"
      ]
    },
    {
      "cell_type": "code",
      "metadata": {
        "colab": {
          "base_uri": "https://localhost:8080/",
          "height": 298
        },
        "id": "OcRDv_d6FDtJ",
        "outputId": "82f11743-9422-4707-fef3-d519ffeec42c"
      },
      "source": [
        "sb.boxplot(data=db['Điểm'])\r\n",
        "plt.xlabel(\"Dữ liệu điểm\")"
      ],
      "execution_count": 23,
      "outputs": [
        {
          "output_type": "execute_result",
          "data": {
            "text/plain": [
              "Text(0.5, 0, 'Dữ liệu điểm')"
            ]
          },
          "metadata": {
            "tags": []
          },
          "execution_count": 23
        },
        {
          "output_type": "display_data",
          "data": {
            "image/png": "[encoded data removed]",
            "text/plain": [
              "<Figure size 432x288 with 1 Axes>"
            ]
          },
          "metadata": {
            "tags": [],
            "needs_background": "light"
          }
        }
      ]
    },
    {
      "cell_type": "markdown",
      "metadata": {
        "id": "J5orC83cF9Z6"
      },
      "source": [
        "Dữ liệu phân bố chủ yếu từ 3-7 điểm\r\n",
        "\r\n",
        "Giá trị trung bình của dữ liệu là khoảng 5.2\r\n",
        "\r\n",
        "Tứ phân vị của dữ liệu làn lượt là 3.5 ; 4,7 ; 6.3 ; 7\r\n",
        "\r\n",
        "Một số giá trị ngoài lề ở giá trị 0 điểm"
      ]
    },
    {
      "cell_type": "code",
      "metadata": {
        "colab": {
          "base_uri": "https://localhost:8080/",
          "height": 489
        },
        "id": "X8sTGUTbHQqR",
        "outputId": "fd8df310-f761-432f-f6e2-0b91a451c356"
      },
      "source": [
        "sb.boxplot(data=db['Điểm'])\r\n",
        "plt.xlabel(\"Dữ liệu điểm\")\r\n",
        "plt.yticks(ticks=[0,1,2,3,4,5,6,7,8,9,10])"
      ],
      "execution_count": 34,
      "outputs": [
        {
          "output_type": "execute_result",
          "data": {
            "text/plain": [
              "([<matplotlib.axis.YTick at 0x7f2238a7cda0>,\n",
              "  <matplotlib.axis.YTick at 0x7f2238a7c780>,\n",
              "  <matplotlib.axis.YTick at 0x7f2238d17da0>,\n",
              "  <matplotlib.axis.YTick at 0x7f2238d3e668>,\n",
              "  <matplotlib.axis.YTick at 0x7f223901b978>,\n",
              "  <matplotlib.axis.YTick at 0x7f2238cfd320>,\n",
              "  <matplotlib.axis.YTick at 0x7f2238d3f208>,\n",
              "  <matplotlib.axis.YTick at 0x7f2238ac89e8>,\n",
              "  <matplotlib.axis.YTick at 0x7f2238ac80b8>,\n",
              "  <matplotlib.axis.YTick at 0x7f2238ac8da0>,\n",
              "  <matplotlib.axis.YTick at 0x7f2238ac8358>],\n",
              " <a list of 11 Text major ticklabel objects>)"
            ]
          },
          "metadata": {
            "tags": []
          },
          "execution_count": 34
        },
        {
          "output_type": "display_data",
          "data": {
            "image/png": "[encoded data removed]",
            "text/plain": [
              "<Figure size 432x288 with 1 Axes>"
            ]
          },
          "metadata": {
            "tags": [],
            "needs_background": "light"
          }
        }
      ]
    }
  ]
}