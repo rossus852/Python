{
  "nbformat": 4,
  "nbformat_minor": 0,
  "metadata": {
    "colab": {
      "name": "Tuan8Bai2.ipynb",
      "provenance": [],
      "collapsed_sections": []
    },
    "kernelspec": {
      "name": "python3",
      "display_name": "Python 3"
    }
  },
  "cells": [
    {
      "cell_type": "code",
      "metadata": {
        "id": "Jgp7Fz7AaZFP"
      },
      "source": [
        "import os\r\n",
        "from pathlib import Path\r\n",
        "\r\n",
        "data_path = Path('/content/')\r\n",
        "os.chdir(data_path)"
      ],
      "execution_count": null,
      "outputs": []
    },
    {
      "cell_type": "code",
      "metadata": {
        "colab": {
          "base_uri": "https://localhost:8080/"
        },
        "id": "JRQo2tsVbGLg",
        "outputId": "e06f046b-5f59-4e78-bcc2-853b911f71e1"
      },
      "source": [
        "print (os.getcwd())"
      ],
      "execution_count": null,
      "outputs": [
        {
          "output_type": "stream",
          "text": [
            "/content\n"
          ],
          "name": "stdout"
        }
      ]
    },
    {
      "cell_type": "code",
      "metadata": {
        "id": "0CmhRYavb2b1"
      },
      "source": [
        "import pandas as pd\r\n",
        "df = pd.read_csv('/content/BrainSize.csv')"
      ],
      "execution_count": null,
      "outputs": []
    },
    {
      "cell_type": "code",
      "metadata": {
        "id": "KoByzoGlcAdt"
      },
      "source": [
        "df1 = pd.read_csv('http://www.statslab.cam.ac.uk/~rds37/teaching/statistical_modelling/BrainSize.csv')\r\n",
        "\r\n",
        "df2 = pd.read_excel('https://mathcs.org/statistics/course/00-data/distribution-data.xls')"
      ],
      "execution_count": null,
      "outputs": []
    },
    {
      "cell_type": "code",
      "metadata": {
        "colab": {
          "base_uri": "https://localhost:8080/"
        },
        "id": "8jNboagTcW_d",
        "outputId": "b81bef60-2f00-4e96-cf84-09cc34ebb42d"
      },
      "source": [
        "df.dtypes"
      ],
      "execution_count": null,
      "outputs": [
        {
          "output_type": "execute_result",
          "data": {
            "text/plain": [
              "Gender        object\n",
              "FSIQ           int64\n",
              "VIQ            int64\n",
              "PIQ            int64\n",
              "Weight         int64\n",
              "Height       float64\n",
              "MRI_Count      int64\n",
              "dtype: object"
            ]
          },
          "metadata": {
            "tags": []
          },
          "execution_count": 6
        }
      ]
    },
    {
      "cell_type": "code",
      "metadata": {
        "colab": {
          "base_uri": "https://localhost:8080/",
          "height": 1000
        },
        "id": "dgz7Gvqvc3_O",
        "outputId": "d0f21ecc-3ba3-4e81-925d-510a13183999"
      },
      "source": [
        "df"
      ],
      "execution_count": null,
      "outputs": [
        {
          "output_type": "execute_result",
          "data": {
            "text/html": [
              "<div>\n",
              "<style scoped>\n",
              "    .dataframe tbody tr th:only-of-type {\n",
              "        vertical-align: middle;\n",
              "    }\n",
              "\n",
              "    .dataframe tbody tr th {\n",
              "        vertical-align: top;\n",
              "    }\n",
              "\n",
              "    .dataframe thead th {\n",
              "        text-align: right;\n",
              "    }\n",
              "</style>\n",
              "<table border=\"1\" class=\"dataframe\">\n",
              "  <thead>\n",
              "    <tr style=\"text-align: right;\">\n",
              "      <th></th>\n",
              "      <th>Gender</th>\n",
              "      <th>FSIQ</th>\n",
              "      <th>VIQ</th>\n",
              "      <th>PIQ</th>\n",
              "      <th>Weight</th>\n",
              "      <th>Height</th>\n",
              "      <th>MRI_Count</th>\n",
              "    </tr>\n",
              "  </thead>\n",
              "  <tbody>\n",
              "    <tr>\n",
              "      <th>0</th>\n",
              "      <td>Female</td>\n",
              "      <td>133</td>\n",
              "      <td>132</td>\n",
              "      <td>124</td>\n",
              "      <td>118</td>\n",
              "      <td>64.5</td>\n",
              "      <td>816932</td>\n",
              "    </tr>\n",
              "    <tr>\n",
              "      <th>1</th>\n",
              "      <td>Male</td>\n",
              "      <td>139</td>\n",
              "      <td>123</td>\n",
              "      <td>150</td>\n",
              "      <td>143</td>\n",
              "      <td>73.3</td>\n",
              "      <td>1038437</td>\n",
              "    </tr>\n",
              "    <tr>\n",
              "      <th>2</th>\n",
              "      <td>Male</td>\n",
              "      <td>133</td>\n",
              "      <td>129</td>\n",
              "      <td>128</td>\n",
              "      <td>172</td>\n",
              "      <td>68.8</td>\n",
              "      <td>965353</td>\n",
              "    </tr>\n",
              "    <tr>\n",
              "      <th>3</th>\n",
              "      <td>Female</td>\n",
              "      <td>137</td>\n",
              "      <td>132</td>\n",
              "      <td>134</td>\n",
              "      <td>147</td>\n",
              "      <td>65.0</td>\n",
              "      <td>951545</td>\n",
              "    </tr>\n",
              "    <tr>\n",
              "      <th>4</th>\n",
              "      <td>Female</td>\n",
              "      <td>99</td>\n",
              "      <td>90</td>\n",
              "      <td>110</td>\n",
              "      <td>146</td>\n",
              "      <td>69.0</td>\n",
              "      <td>928799</td>\n",
              "    </tr>\n",
              "    <tr>\n",
              "      <th>5</th>\n",
              "      <td>Female</td>\n",
              "      <td>138</td>\n",
              "      <td>136</td>\n",
              "      <td>131</td>\n",
              "      <td>138</td>\n",
              "      <td>64.5</td>\n",
              "      <td>991305</td>\n",
              "    </tr>\n",
              "    <tr>\n",
              "      <th>6</th>\n",
              "      <td>Female</td>\n",
              "      <td>92</td>\n",
              "      <td>90</td>\n",
              "      <td>98</td>\n",
              "      <td>175</td>\n",
              "      <td>66.0</td>\n",
              "      <td>854258</td>\n",
              "    </tr>\n",
              "    <tr>\n",
              "      <th>7</th>\n",
              "      <td>Male</td>\n",
              "      <td>89</td>\n",
              "      <td>93</td>\n",
              "      <td>84</td>\n",
              "      <td>134</td>\n",
              "      <td>66.3</td>\n",
              "      <td>904858</td>\n",
              "    </tr>\n",
              "    <tr>\n",
              "      <th>8</th>\n",
              "      <td>Male</td>\n",
              "      <td>133</td>\n",
              "      <td>114</td>\n",
              "      <td>147</td>\n",
              "      <td>172</td>\n",
              "      <td>68.8</td>\n",
              "      <td>955466</td>\n",
              "    </tr>\n",
              "    <tr>\n",
              "      <th>9</th>\n",
              "      <td>Female</td>\n",
              "      <td>132</td>\n",
              "      <td>129</td>\n",
              "      <td>124</td>\n",
              "      <td>118</td>\n",
              "      <td>64.5</td>\n",
              "      <td>833868</td>\n",
              "    </tr>\n",
              "    <tr>\n",
              "      <th>10</th>\n",
              "      <td>Male</td>\n",
              "      <td>141</td>\n",
              "      <td>150</td>\n",
              "      <td>128</td>\n",
              "      <td>151</td>\n",
              "      <td>70.0</td>\n",
              "      <td>1079549</td>\n",
              "    </tr>\n",
              "    <tr>\n",
              "      <th>11</th>\n",
              "      <td>Male</td>\n",
              "      <td>135</td>\n",
              "      <td>129</td>\n",
              "      <td>124</td>\n",
              "      <td>155</td>\n",
              "      <td>69.0</td>\n",
              "      <td>924059</td>\n",
              "    </tr>\n",
              "    <tr>\n",
              "      <th>12</th>\n",
              "      <td>Female</td>\n",
              "      <td>140</td>\n",
              "      <td>120</td>\n",
              "      <td>147</td>\n",
              "      <td>155</td>\n",
              "      <td>70.5</td>\n",
              "      <td>856472</td>\n",
              "    </tr>\n",
              "    <tr>\n",
              "      <th>13</th>\n",
              "      <td>Female</td>\n",
              "      <td>96</td>\n",
              "      <td>100</td>\n",
              "      <td>90</td>\n",
              "      <td>146</td>\n",
              "      <td>66.0</td>\n",
              "      <td>878897</td>\n",
              "    </tr>\n",
              "    <tr>\n",
              "      <th>14</th>\n",
              "      <td>Female</td>\n",
              "      <td>83</td>\n",
              "      <td>71</td>\n",
              "      <td>96</td>\n",
              "      <td>135</td>\n",
              "      <td>68.0</td>\n",
              "      <td>865363</td>\n",
              "    </tr>\n",
              "    <tr>\n",
              "      <th>15</th>\n",
              "      <td>Female</td>\n",
              "      <td>132</td>\n",
              "      <td>132</td>\n",
              "      <td>120</td>\n",
              "      <td>127</td>\n",
              "      <td>68.5</td>\n",
              "      <td>852244</td>\n",
              "    </tr>\n",
              "    <tr>\n",
              "      <th>16</th>\n",
              "      <td>Male</td>\n",
              "      <td>100</td>\n",
              "      <td>96</td>\n",
              "      <td>102</td>\n",
              "      <td>178</td>\n",
              "      <td>73.5</td>\n",
              "      <td>945088</td>\n",
              "    </tr>\n",
              "    <tr>\n",
              "      <th>17</th>\n",
              "      <td>Female</td>\n",
              "      <td>101</td>\n",
              "      <td>112</td>\n",
              "      <td>84</td>\n",
              "      <td>136</td>\n",
              "      <td>66.3</td>\n",
              "      <td>808020</td>\n",
              "    </tr>\n",
              "    <tr>\n",
              "      <th>18</th>\n",
              "      <td>Male</td>\n",
              "      <td>80</td>\n",
              "      <td>77</td>\n",
              "      <td>86</td>\n",
              "      <td>180</td>\n",
              "      <td>70.0</td>\n",
              "      <td>889083</td>\n",
              "    </tr>\n",
              "    <tr>\n",
              "      <th>19</th>\n",
              "      <td>Male</td>\n",
              "      <td>97</td>\n",
              "      <td>107</td>\n",
              "      <td>84</td>\n",
              "      <td>186</td>\n",
              "      <td>76.5</td>\n",
              "      <td>905940</td>\n",
              "    </tr>\n",
              "    <tr>\n",
              "      <th>20</th>\n",
              "      <td>Female</td>\n",
              "      <td>135</td>\n",
              "      <td>129</td>\n",
              "      <td>134</td>\n",
              "      <td>122</td>\n",
              "      <td>62.0</td>\n",
              "      <td>790619</td>\n",
              "    </tr>\n",
              "    <tr>\n",
              "      <th>21</th>\n",
              "      <td>Male</td>\n",
              "      <td>139</td>\n",
              "      <td>145</td>\n",
              "      <td>128</td>\n",
              "      <td>132</td>\n",
              "      <td>68.0</td>\n",
              "      <td>955003</td>\n",
              "    </tr>\n",
              "    <tr>\n",
              "      <th>22</th>\n",
              "      <td>Female</td>\n",
              "      <td>91</td>\n",
              "      <td>86</td>\n",
              "      <td>102</td>\n",
              "      <td>114</td>\n",
              "      <td>63.0</td>\n",
              "      <td>831772</td>\n",
              "    </tr>\n",
              "    <tr>\n",
              "      <th>23</th>\n",
              "      <td>Male</td>\n",
              "      <td>141</td>\n",
              "      <td>145</td>\n",
              "      <td>131</td>\n",
              "      <td>171</td>\n",
              "      <td>72.0</td>\n",
              "      <td>935494</td>\n",
              "    </tr>\n",
              "    <tr>\n",
              "      <th>24</th>\n",
              "      <td>Female</td>\n",
              "      <td>85</td>\n",
              "      <td>90</td>\n",
              "      <td>84</td>\n",
              "      <td>140</td>\n",
              "      <td>68.0</td>\n",
              "      <td>798612</td>\n",
              "    </tr>\n",
              "    <tr>\n",
              "      <th>25</th>\n",
              "      <td>Male</td>\n",
              "      <td>103</td>\n",
              "      <td>96</td>\n",
              "      <td>110</td>\n",
              "      <td>187</td>\n",
              "      <td>77.0</td>\n",
              "      <td>1062462</td>\n",
              "    </tr>\n",
              "    <tr>\n",
              "      <th>26</th>\n",
              "      <td>Female</td>\n",
              "      <td>77</td>\n",
              "      <td>83</td>\n",
              "      <td>72</td>\n",
              "      <td>106</td>\n",
              "      <td>63.0</td>\n",
              "      <td>793549</td>\n",
              "    </tr>\n",
              "    <tr>\n",
              "      <th>27</th>\n",
              "      <td>Female</td>\n",
              "      <td>130</td>\n",
              "      <td>126</td>\n",
              "      <td>124</td>\n",
              "      <td>159</td>\n",
              "      <td>66.5</td>\n",
              "      <td>866662</td>\n",
              "    </tr>\n",
              "    <tr>\n",
              "      <th>28</th>\n",
              "      <td>Female</td>\n",
              "      <td>133</td>\n",
              "      <td>126</td>\n",
              "      <td>132</td>\n",
              "      <td>127</td>\n",
              "      <td>62.5</td>\n",
              "      <td>857782</td>\n",
              "    </tr>\n",
              "    <tr>\n",
              "      <th>29</th>\n",
              "      <td>Male</td>\n",
              "      <td>144</td>\n",
              "      <td>145</td>\n",
              "      <td>137</td>\n",
              "      <td>191</td>\n",
              "      <td>67.0</td>\n",
              "      <td>949589</td>\n",
              "    </tr>\n",
              "    <tr>\n",
              "      <th>30</th>\n",
              "      <td>Male</td>\n",
              "      <td>103</td>\n",
              "      <td>96</td>\n",
              "      <td>110</td>\n",
              "      <td>192</td>\n",
              "      <td>75.5</td>\n",
              "      <td>997925</td>\n",
              "    </tr>\n",
              "    <tr>\n",
              "      <th>31</th>\n",
              "      <td>Male</td>\n",
              "      <td>90</td>\n",
              "      <td>96</td>\n",
              "      <td>86</td>\n",
              "      <td>181</td>\n",
              "      <td>69.0</td>\n",
              "      <td>879987</td>\n",
              "    </tr>\n",
              "    <tr>\n",
              "      <th>32</th>\n",
              "      <td>Female</td>\n",
              "      <td>83</td>\n",
              "      <td>90</td>\n",
              "      <td>81</td>\n",
              "      <td>143</td>\n",
              "      <td>66.5</td>\n",
              "      <td>834344</td>\n",
              "    </tr>\n",
              "    <tr>\n",
              "      <th>33</th>\n",
              "      <td>Female</td>\n",
              "      <td>133</td>\n",
              "      <td>129</td>\n",
              "      <td>128</td>\n",
              "      <td>153</td>\n",
              "      <td>66.5</td>\n",
              "      <td>948066</td>\n",
              "    </tr>\n",
              "    <tr>\n",
              "      <th>34</th>\n",
              "      <td>Male</td>\n",
              "      <td>140</td>\n",
              "      <td>150</td>\n",
              "      <td>124</td>\n",
              "      <td>144</td>\n",
              "      <td>70.5</td>\n",
              "      <td>949395</td>\n",
              "    </tr>\n",
              "    <tr>\n",
              "      <th>35</th>\n",
              "      <td>Female</td>\n",
              "      <td>88</td>\n",
              "      <td>86</td>\n",
              "      <td>94</td>\n",
              "      <td>139</td>\n",
              "      <td>64.5</td>\n",
              "      <td>893983</td>\n",
              "    </tr>\n",
              "    <tr>\n",
              "      <th>36</th>\n",
              "      <td>Male</td>\n",
              "      <td>81</td>\n",
              "      <td>90</td>\n",
              "      <td>74</td>\n",
              "      <td>148</td>\n",
              "      <td>74.0</td>\n",
              "      <td>930016</td>\n",
              "    </tr>\n",
              "    <tr>\n",
              "      <th>37</th>\n",
              "      <td>Male</td>\n",
              "      <td>89</td>\n",
              "      <td>91</td>\n",
              "      <td>89</td>\n",
              "      <td>179</td>\n",
              "      <td>75.5</td>\n",
              "      <td>935863</td>\n",
              "    </tr>\n",
              "  </tbody>\n",
              "</table>\n",
              "</div>"
            ],
            "text/plain": [
              "    Gender  FSIQ  VIQ  PIQ  Weight  Height  MRI_Count\n",
              "0   Female   133  132  124     118    64.5     816932\n",
              "1     Male   139  123  150     143    73.3    1038437\n",
              "2     Male   133  129  128     172    68.8     965353\n",
              "3   Female   137  132  134     147    65.0     951545\n",
              "4   Female    99   90  110     146    69.0     928799\n",
              "5   Female   138  136  131     138    64.5     991305\n",
              "6   Female    92   90   98     175    66.0     854258\n",
              "7     Male    89   93   84     134    66.3     904858\n",
              "8     Male   133  114  147     172    68.8     955466\n",
              "9   Female   132  129  124     118    64.5     833868\n",
              "10    Male   141  150  128     151    70.0    1079549\n",
              "11    Male   135  129  124     155    69.0     924059\n",
              "12  Female   140  120  147     155    70.5     856472\n",
              "13  Female    96  100   90     146    66.0     878897\n",
              "14  Female    83   71   96     135    68.0     865363\n",
              "15  Female   132  132  120     127    68.5     852244\n",
              "16    Male   100   96  102     178    73.5     945088\n",
              "17  Female   101  112   84     136    66.3     808020\n",
              "18    Male    80   77   86     180    70.0     889083\n",
              "19    Male    97  107   84     186    76.5     905940\n",
              "20  Female   135  129  134     122    62.0     790619\n",
              "21    Male   139  145  128     132    68.0     955003\n",
              "22  Female    91   86  102     114    63.0     831772\n",
              "23    Male   141  145  131     171    72.0     935494\n",
              "24  Female    85   90   84     140    68.0     798612\n",
              "25    Male   103   96  110     187    77.0    1062462\n",
              "26  Female    77   83   72     106    63.0     793549\n",
              "27  Female   130  126  124     159    66.5     866662\n",
              "28  Female   133  126  132     127    62.5     857782\n",
              "29    Male   144  145  137     191    67.0     949589\n",
              "30    Male   103   96  110     192    75.5     997925\n",
              "31    Male    90   96   86     181    69.0     879987\n",
              "32  Female    83   90   81     143    66.5     834344\n",
              "33  Female   133  129  128     153    66.5     948066\n",
              "34    Male   140  150  124     144    70.5     949395\n",
              "35  Female    88   86   94     139    64.5     893983\n",
              "36    Male    81   90   74     148    74.0     930016\n",
              "37    Male    89   91   89     179    75.5     935863"
            ]
          },
          "metadata": {
            "tags": []
          },
          "execution_count": 12
        }
      ]
    },
    {
      "cell_type": "code",
      "metadata": {
        "colab": {
          "base_uri": "https://localhost:8080/"
        },
        "id": "xrzg-O4ncdcN",
        "outputId": "08ed64cb-10b8-4035-8a5c-7f449389e7bc"
      },
      "source": [
        "df.shape"
      ],
      "execution_count": null,
      "outputs": [
        {
          "output_type": "execute_result",
          "data": {
            "text/plain": [
              "(38, 7)"
            ]
          },
          "metadata": {
            "tags": []
          },
          "execution_count": 7
        }
      ]
    },
    {
      "cell_type": "code",
      "metadata": {
        "colab": {
          "base_uri": "https://localhost:8080/"
        },
        "id": "p65l6jigcgKV",
        "outputId": "7b17695a-41f3-4130-ae65-f4951748fc59"
      },
      "source": [
        "df.shape[0]"
      ],
      "execution_count": null,
      "outputs": [
        {
          "output_type": "execute_result",
          "data": {
            "text/plain": [
              "38"
            ]
          },
          "metadata": {
            "tags": []
          },
          "execution_count": 8
        }
      ]
    },
    {
      "cell_type": "code",
      "metadata": {
        "colab": {
          "base_uri": "https://localhost:8080/"
        },
        "id": "dww1kj75cjS1",
        "outputId": "6e69d07e-6f58-4456-c3e9-06f0bd54baa7"
      },
      "source": [
        "df.shape[1]"
      ],
      "execution_count": null,
      "outputs": [
        {
          "output_type": "execute_result",
          "data": {
            "text/plain": [
              "7"
            ]
          },
          "metadata": {
            "tags": []
          },
          "execution_count": 9
        }
      ]
    },
    {
      "cell_type": "code",
      "metadata": {
        "colab": {
          "base_uri": "https://localhost:8080/"
        },
        "id": "z7WO4JK_cliO",
        "outputId": "86e27bb5-8355-43e7-9b87-e0d1776b4a13"
      },
      "source": [
        "df.info()"
      ],
      "execution_count": 23,
      "outputs": [
        {
          "output_type": "stream",
          "text": [
            "<class 'pandas.core.frame.DataFrame'>\n",
            "RangeIndex: 38 entries, 0 to 37\n",
            "Data columns (total 8 columns):\n",
            " #   Column     Non-Null Count  Dtype   \n",
            "---  ------     --------------  -----   \n",
            " 0   Gender     38 non-null     object  \n",
            " 1   FSIQ       38 non-null     int64   \n",
            " 2   VIQ        38 non-null     int64   \n",
            " 3   PIQ        38 non-null     int64   \n",
            " 4   Weight     38 non-null     int64   \n",
            " 5   Height     38 non-null     float64 \n",
            " 6   MRI_Count  38 non-null     int64   \n",
            " 7   GenderCat  38 non-null     category\n",
            "dtypes: category(1), float64(1), int64(5), object(1)\n",
            "memory usage: 2.3+ KB\n"
          ],
          "name": "stdout"
        }
      ]
    },
    {
      "cell_type": "code",
      "metadata": {
        "colab": {
          "base_uri": "https://localhost:8080/",
          "height": 297
        },
        "id": "kLwtB_F4czx9",
        "outputId": "0614e915-ce76-4946-9104-9b7767562c3d"
      },
      "source": [
        "df.describe()"
      ],
      "execution_count": null,
      "outputs": [
        {
          "output_type": "execute_result",
          "data": {
            "text/html": [
              "<div>\n",
              "<style scoped>\n",
              "    .dataframe tbody tr th:only-of-type {\n",
              "        vertical-align: middle;\n",
              "    }\n",
              "\n",
              "    .dataframe tbody tr th {\n",
              "        vertical-align: top;\n",
              "    }\n",
              "\n",
              "    .dataframe thead th {\n",
              "        text-align: right;\n",
              "    }\n",
              "</style>\n",
              "<table border=\"1\" class=\"dataframe\">\n",
              "  <thead>\n",
              "    <tr style=\"text-align: right;\">\n",
              "      <th></th>\n",
              "      <th>FSIQ</th>\n",
              "      <th>VIQ</th>\n",
              "      <th>PIQ</th>\n",
              "      <th>Weight</th>\n",
              "      <th>Height</th>\n",
              "      <th>MRI_Count</th>\n",
              "    </tr>\n",
              "  </thead>\n",
              "  <tbody>\n",
              "    <tr>\n",
              "      <th>count</th>\n",
              "      <td>38.000000</td>\n",
              "      <td>38.000000</td>\n",
              "      <td>38.000000</td>\n",
              "      <td>38.000000</td>\n",
              "      <td>38.000000</td>\n",
              "      <td>3.800000e+01</td>\n",
              "    </tr>\n",
              "    <tr>\n",
              "      <th>mean</th>\n",
              "      <td>113.552632</td>\n",
              "      <td>112.131579</td>\n",
              "      <td>111.342105</td>\n",
              "      <td>151.052632</td>\n",
              "      <td>68.421053</td>\n",
              "      <td>9.067542e+05</td>\n",
              "    </tr>\n",
              "    <tr>\n",
              "      <th>std</th>\n",
              "      <td>23.815391</td>\n",
              "      <td>22.939605</td>\n",
              "      <td>22.597867</td>\n",
              "      <td>23.478509</td>\n",
              "      <td>3.993790</td>\n",
              "      <td>7.256175e+04</td>\n",
              "    </tr>\n",
              "    <tr>\n",
              "      <th>min</th>\n",
              "      <td>77.000000</td>\n",
              "      <td>71.000000</td>\n",
              "      <td>72.000000</td>\n",
              "      <td>106.000000</td>\n",
              "      <td>62.000000</td>\n",
              "      <td>7.906190e+05</td>\n",
              "    </tr>\n",
              "    <tr>\n",
              "      <th>25%</th>\n",
              "      <td>90.250000</td>\n",
              "      <td>90.250000</td>\n",
              "      <td>89.250000</td>\n",
              "      <td>135.250000</td>\n",
              "      <td>66.000000</td>\n",
              "      <td>8.548115e+05</td>\n",
              "    </tr>\n",
              "    <tr>\n",
              "      <th>50%</th>\n",
              "      <td>116.500000</td>\n",
              "      <td>113.000000</td>\n",
              "      <td>115.000000</td>\n",
              "      <td>146.500000</td>\n",
              "      <td>68.000000</td>\n",
              "      <td>9.053990e+05</td>\n",
              "    </tr>\n",
              "    <tr>\n",
              "      <th>75%</th>\n",
              "      <td>135.000000</td>\n",
              "      <td>129.000000</td>\n",
              "      <td>128.000000</td>\n",
              "      <td>172.000000</td>\n",
              "      <td>70.375000</td>\n",
              "      <td>9.495405e+05</td>\n",
              "    </tr>\n",
              "    <tr>\n",
              "      <th>max</th>\n",
              "      <td>144.000000</td>\n",
              "      <td>150.000000</td>\n",
              "      <td>150.000000</td>\n",
              "      <td>192.000000</td>\n",
              "      <td>77.000000</td>\n",
              "      <td>1.079549e+06</td>\n",
              "    </tr>\n",
              "  </tbody>\n",
              "</table>\n",
              "</div>"
            ],
            "text/plain": [
              "             FSIQ         VIQ         PIQ      Weight     Height     MRI_Count\n",
              "count   38.000000   38.000000   38.000000   38.000000  38.000000  3.800000e+01\n",
              "mean   113.552632  112.131579  111.342105  151.052632  68.421053  9.067542e+05\n",
              "std     23.815391   22.939605   22.597867   23.478509   3.993790  7.256175e+04\n",
              "min     77.000000   71.000000   72.000000  106.000000  62.000000  7.906190e+05\n",
              "25%     90.250000   90.250000   89.250000  135.250000  66.000000  8.548115e+05\n",
              "50%    116.500000  113.000000  115.000000  146.500000  68.000000  9.053990e+05\n",
              "75%    135.000000  129.000000  128.000000  172.000000  70.375000  9.495405e+05\n",
              "max    144.000000  150.000000  150.000000  192.000000  77.000000  1.079549e+06"
            ]
          },
          "metadata": {
            "tags": []
          },
          "execution_count": 11
        }
      ]
    },
    {
      "cell_type": "code",
      "metadata": {
        "colab": {
          "base_uri": "https://localhost:8080/",
          "height": 173
        },
        "id": "W8yBz1lmdE8l",
        "outputId": "05df351d-54b9-457a-cc02-4c8e1b978598"
      },
      "source": [
        "df.describe(include=['O'])"
      ],
      "execution_count": null,
      "outputs": [
        {
          "output_type": "execute_result",
          "data": {
            "text/html": [
              "<div>\n",
              "<style scoped>\n",
              "    .dataframe tbody tr th:only-of-type {\n",
              "        vertical-align: middle;\n",
              "    }\n",
              "\n",
              "    .dataframe tbody tr th {\n",
              "        vertical-align: top;\n",
              "    }\n",
              "\n",
              "    .dataframe thead th {\n",
              "        text-align: right;\n",
              "    }\n",
              "</style>\n",
              "<table border=\"1\" class=\"dataframe\">\n",
              "  <thead>\n",
              "    <tr style=\"text-align: right;\">\n",
              "      <th></th>\n",
              "      <th>Gender</th>\n",
              "    </tr>\n",
              "  </thead>\n",
              "  <tbody>\n",
              "    <tr>\n",
              "      <th>count</th>\n",
              "      <td>38</td>\n",
              "    </tr>\n",
              "    <tr>\n",
              "      <th>unique</th>\n",
              "      <td>2</td>\n",
              "    </tr>\n",
              "    <tr>\n",
              "      <th>top</th>\n",
              "      <td>Female</td>\n",
              "    </tr>\n",
              "    <tr>\n",
              "      <th>freq</th>\n",
              "      <td>20</td>\n",
              "    </tr>\n",
              "  </tbody>\n",
              "</table>\n",
              "</div>"
            ],
            "text/plain": [
              "        Gender\n",
              "count       38\n",
              "unique       2\n",
              "top     Female\n",
              "freq        20"
            ]
          },
          "metadata": {
            "tags": []
          },
          "execution_count": 13
        }
      ]
    },
    {
      "cell_type": "code",
      "metadata": {
        "colab": {
          "base_uri": "https://localhost:8080/",
          "height": 173
        },
        "id": "IJMxUIDrdLQ8",
        "outputId": "a4052b7a-3673-49c1-cb35-5f47370b1284"
      },
      "source": [
        "df['GenderCat'] = df['Gender'].astype('category')\r\n",
        "df.describe(include=['category'])"
      ],
      "execution_count": null,
      "outputs": [
        {
          "output_type": "execute_result",
          "data": {
            "text/html": [
              "<div>\n",
              "<style scoped>\n",
              "    .dataframe tbody tr th:only-of-type {\n",
              "        vertical-align: middle;\n",
              "    }\n",
              "\n",
              "    .dataframe tbody tr th {\n",
              "        vertical-align: top;\n",
              "    }\n",
              "\n",
              "    .dataframe thead th {\n",
              "        text-align: right;\n",
              "    }\n",
              "</style>\n",
              "<table border=\"1\" class=\"dataframe\">\n",
              "  <thead>\n",
              "    <tr style=\"text-align: right;\">\n",
              "      <th></th>\n",
              "      <th>GenderCat</th>\n",
              "    </tr>\n",
              "  </thead>\n",
              "  <tbody>\n",
              "    <tr>\n",
              "      <th>count</th>\n",
              "      <td>38</td>\n",
              "    </tr>\n",
              "    <tr>\n",
              "      <th>unique</th>\n",
              "      <td>2</td>\n",
              "    </tr>\n",
              "    <tr>\n",
              "      <th>top</th>\n",
              "      <td>Female</td>\n",
              "    </tr>\n",
              "    <tr>\n",
              "      <th>freq</th>\n",
              "      <td>20</td>\n",
              "    </tr>\n",
              "  </tbody>\n",
              "</table>\n",
              "</div>"
            ],
            "text/plain": [
              "       GenderCat\n",
              "count         38\n",
              "unique         2\n",
              "top       Female\n",
              "freq          20"
            ]
          },
          "metadata": {
            "tags": []
          },
          "execution_count": 14
        }
      ]
    },
    {
      "cell_type": "code",
      "metadata": {
        "colab": {
          "base_uri": "https://localhost:8080/",
          "height": 390
        },
        "id": "veAJCK4BoTaR",
        "outputId": "6fe5a064-be56-4fc1-d408-af8454498aa9"
      },
      "source": [
        "df.describe(include='all')"
      ],
      "execution_count": 22,
      "outputs": [
        {
          "output_type": "execute_result",
          "data": {
            "text/html": [
              "<div>\n",
              "<style scoped>\n",
              "    .dataframe tbody tr th:only-of-type {\n",
              "        vertical-align: middle;\n",
              "    }\n",
              "\n",
              "    .dataframe tbody tr th {\n",
              "        vertical-align: top;\n",
              "    }\n",
              "\n",
              "    .dataframe thead th {\n",
              "        text-align: right;\n",
              "    }\n",
              "</style>\n",
              "<table border=\"1\" class=\"dataframe\">\n",
              "  <thead>\n",
              "    <tr style=\"text-align: right;\">\n",
              "      <th></th>\n",
              "      <th>Gender</th>\n",
              "      <th>FSIQ</th>\n",
              "      <th>VIQ</th>\n",
              "      <th>PIQ</th>\n",
              "      <th>Weight</th>\n",
              "      <th>Height</th>\n",
              "      <th>MRI_Count</th>\n",
              "      <th>GenderCat</th>\n",
              "    </tr>\n",
              "  </thead>\n",
              "  <tbody>\n",
              "    <tr>\n",
              "      <th>count</th>\n",
              "      <td>38</td>\n",
              "      <td>38.000000</td>\n",
              "      <td>38.000000</td>\n",
              "      <td>38.000000</td>\n",
              "      <td>38.000000</td>\n",
              "      <td>38.000000</td>\n",
              "      <td>3.800000e+01</td>\n",
              "      <td>38</td>\n",
              "    </tr>\n",
              "    <tr>\n",
              "      <th>unique</th>\n",
              "      <td>2</td>\n",
              "      <td>NaN</td>\n",
              "      <td>NaN</td>\n",
              "      <td>NaN</td>\n",
              "      <td>NaN</td>\n",
              "      <td>NaN</td>\n",
              "      <td>NaN</td>\n",
              "      <td>2</td>\n",
              "    </tr>\n",
              "    <tr>\n",
              "      <th>top</th>\n",
              "      <td>Female</td>\n",
              "      <td>NaN</td>\n",
              "      <td>NaN</td>\n",
              "      <td>NaN</td>\n",
              "      <td>NaN</td>\n",
              "      <td>NaN</td>\n",
              "      <td>NaN</td>\n",
              "      <td>Female</td>\n",
              "    </tr>\n",
              "    <tr>\n",
              "      <th>freq</th>\n",
              "      <td>20</td>\n",
              "      <td>NaN</td>\n",
              "      <td>NaN</td>\n",
              "      <td>NaN</td>\n",
              "      <td>NaN</td>\n",
              "      <td>NaN</td>\n",
              "      <td>NaN</td>\n",
              "      <td>20</td>\n",
              "    </tr>\n",
              "    <tr>\n",
              "      <th>mean</th>\n",
              "      <td>NaN</td>\n",
              "      <td>113.552632</td>\n",
              "      <td>112.131579</td>\n",
              "      <td>111.342105</td>\n",
              "      <td>151.052632</td>\n",
              "      <td>68.421053</td>\n",
              "      <td>9.067542e+05</td>\n",
              "      <td>NaN</td>\n",
              "    </tr>\n",
              "    <tr>\n",
              "      <th>std</th>\n",
              "      <td>NaN</td>\n",
              "      <td>23.815391</td>\n",
              "      <td>22.939605</td>\n",
              "      <td>22.597867</td>\n",
              "      <td>23.478509</td>\n",
              "      <td>3.993790</td>\n",
              "      <td>7.256175e+04</td>\n",
              "      <td>NaN</td>\n",
              "    </tr>\n",
              "    <tr>\n",
              "      <th>min</th>\n",
              "      <td>NaN</td>\n",
              "      <td>77.000000</td>\n",
              "      <td>71.000000</td>\n",
              "      <td>72.000000</td>\n",
              "      <td>106.000000</td>\n",
              "      <td>62.000000</td>\n",
              "      <td>7.906190e+05</td>\n",
              "      <td>NaN</td>\n",
              "    </tr>\n",
              "    <tr>\n",
              "      <th>25%</th>\n",
              "      <td>NaN</td>\n",
              "      <td>90.250000</td>\n",
              "      <td>90.250000</td>\n",
              "      <td>89.250000</td>\n",
              "      <td>135.250000</td>\n",
              "      <td>66.000000</td>\n",
              "      <td>8.548115e+05</td>\n",
              "      <td>NaN</td>\n",
              "    </tr>\n",
              "    <tr>\n",
              "      <th>50%</th>\n",
              "      <td>NaN</td>\n",
              "      <td>116.500000</td>\n",
              "      <td>113.000000</td>\n",
              "      <td>115.000000</td>\n",
              "      <td>146.500000</td>\n",
              "      <td>68.000000</td>\n",
              "      <td>9.053990e+05</td>\n",
              "      <td>NaN</td>\n",
              "    </tr>\n",
              "    <tr>\n",
              "      <th>75%</th>\n",
              "      <td>NaN</td>\n",
              "      <td>135.000000</td>\n",
              "      <td>129.000000</td>\n",
              "      <td>128.000000</td>\n",
              "      <td>172.000000</td>\n",
              "      <td>70.375000</td>\n",
              "      <td>9.495405e+05</td>\n",
              "      <td>NaN</td>\n",
              "    </tr>\n",
              "    <tr>\n",
              "      <th>max</th>\n",
              "      <td>NaN</td>\n",
              "      <td>144.000000</td>\n",
              "      <td>150.000000</td>\n",
              "      <td>150.000000</td>\n",
              "      <td>192.000000</td>\n",
              "      <td>77.000000</td>\n",
              "      <td>1.079549e+06</td>\n",
              "      <td>NaN</td>\n",
              "    </tr>\n",
              "  </tbody>\n",
              "</table>\n",
              "</div>"
            ],
            "text/plain": [
              "        Gender        FSIQ         VIQ  ...     Height     MRI_Count  GenderCat\n",
              "count       38   38.000000   38.000000  ...  38.000000  3.800000e+01         38\n",
              "unique       2         NaN         NaN  ...        NaN           NaN          2\n",
              "top     Female         NaN         NaN  ...        NaN           NaN     Female\n",
              "freq        20         NaN         NaN  ...        NaN           NaN         20\n",
              "mean       NaN  113.552632  112.131579  ...  68.421053  9.067542e+05        NaN\n",
              "std        NaN   23.815391   22.939605  ...   3.993790  7.256175e+04        NaN\n",
              "min        NaN   77.000000   71.000000  ...  62.000000  7.906190e+05        NaN\n",
              "25%        NaN   90.250000   90.250000  ...  66.000000  8.548115e+05        NaN\n",
              "50%        NaN  116.500000  113.000000  ...  68.000000  9.053990e+05        NaN\n",
              "75%        NaN  135.000000  129.000000  ...  70.375000  9.495405e+05        NaN\n",
              "max        NaN  144.000000  150.000000  ...  77.000000  1.079549e+06        NaN\n",
              "\n",
              "[11 rows x 8 columns]"
            ]
          },
          "metadata": {
            "tags": []
          },
          "execution_count": 22
        }
      ]
    },
    {
      "cell_type": "code",
      "metadata": {
        "colab": {
          "base_uri": "https://localhost:8080/"
        },
        "id": "ldlxJ9Y2dwOM",
        "outputId": "711499ff-1521-45ed-9fad-a063f68a528d"
      },
      "source": [
        "df.columns"
      ],
      "execution_count": null,
      "outputs": [
        {
          "output_type": "execute_result",
          "data": {
            "text/plain": [
              "Index(['Gender', 'FSIQ', 'VIQ', 'PIQ', 'Weight', 'Height', 'MRI_Count',\n",
              "       'GenderCat'],\n",
              "      dtype='object')"
            ]
          },
          "metadata": {
            "tags": []
          },
          "execution_count": 15
        }
      ]
    },
    {
      "cell_type": "code",
      "metadata": {
        "colab": {
          "base_uri": "https://localhost:8080/",
          "height": 204
        },
        "id": "ZcnB5r4RdzGs",
        "outputId": "02b6a21c-42ad-4302-c22f-b276d087fa07"
      },
      "source": [
        "df.head()"
      ],
      "execution_count": null,
      "outputs": [
        {
          "output_type": "execute_result",
          "data": {
            "text/html": [
              "<div>\n",
              "<style scoped>\n",
              "    .dataframe tbody tr th:only-of-type {\n",
              "        vertical-align: middle;\n",
              "    }\n",
              "\n",
              "    .dataframe tbody tr th {\n",
              "        vertical-align: top;\n",
              "    }\n",
              "\n",
              "    .dataframe thead th {\n",
              "        text-align: right;\n",
              "    }\n",
              "</style>\n",
              "<table border=\"1\" class=\"dataframe\">\n",
              "  <thead>\n",
              "    <tr style=\"text-align: right;\">\n",
              "      <th></th>\n",
              "      <th>Gender</th>\n",
              "      <th>FSIQ</th>\n",
              "      <th>VIQ</th>\n",
              "      <th>PIQ</th>\n",
              "      <th>Weight</th>\n",
              "      <th>Height</th>\n",
              "      <th>MRI_Count</th>\n",
              "      <th>GenderCat</th>\n",
              "    </tr>\n",
              "  </thead>\n",
              "  <tbody>\n",
              "    <tr>\n",
              "      <th>0</th>\n",
              "      <td>Female</td>\n",
              "      <td>133</td>\n",
              "      <td>132</td>\n",
              "      <td>124</td>\n",
              "      <td>118</td>\n",
              "      <td>64.5</td>\n",
              "      <td>816932</td>\n",
              "      <td>Female</td>\n",
              "    </tr>\n",
              "    <tr>\n",
              "      <th>1</th>\n",
              "      <td>Male</td>\n",
              "      <td>139</td>\n",
              "      <td>123</td>\n",
              "      <td>150</td>\n",
              "      <td>143</td>\n",
              "      <td>73.3</td>\n",
              "      <td>1038437</td>\n",
              "      <td>Male</td>\n",
              "    </tr>\n",
              "    <tr>\n",
              "      <th>2</th>\n",
              "      <td>Male</td>\n",
              "      <td>133</td>\n",
              "      <td>129</td>\n",
              "      <td>128</td>\n",
              "      <td>172</td>\n",
              "      <td>68.8</td>\n",
              "      <td>965353</td>\n",
              "      <td>Male</td>\n",
              "    </tr>\n",
              "    <tr>\n",
              "      <th>3</th>\n",
              "      <td>Female</td>\n",
              "      <td>137</td>\n",
              "      <td>132</td>\n",
              "      <td>134</td>\n",
              "      <td>147</td>\n",
              "      <td>65.0</td>\n",
              "      <td>951545</td>\n",
              "      <td>Female</td>\n",
              "    </tr>\n",
              "    <tr>\n",
              "      <th>4</th>\n",
              "      <td>Female</td>\n",
              "      <td>99</td>\n",
              "      <td>90</td>\n",
              "      <td>110</td>\n",
              "      <td>146</td>\n",
              "      <td>69.0</td>\n",
              "      <td>928799</td>\n",
              "      <td>Female</td>\n",
              "    </tr>\n",
              "  </tbody>\n",
              "</table>\n",
              "</div>"
            ],
            "text/plain": [
              "   Gender  FSIQ  VIQ  PIQ  Weight  Height  MRI_Count GenderCat\n",
              "0  Female   133  132  124     118    64.5     816932    Female\n",
              "1    Male   139  123  150     143    73.3    1038437      Male\n",
              "2    Male   133  129  128     172    68.8     965353      Male\n",
              "3  Female   137  132  134     147    65.0     951545    Female\n",
              "4  Female    99   90  110     146    69.0     928799    Female"
            ]
          },
          "metadata": {
            "tags": []
          },
          "execution_count": 16
        }
      ]
    },
    {
      "cell_type": "code",
      "metadata": {
        "colab": {
          "base_uri": "https://localhost:8080/",
          "height": 204
        },
        "id": "Kz-vxELTd3V1",
        "outputId": "7c49939c-2fd8-4b51-aa33-69ee85dee657"
      },
      "source": [
        "df.tail()"
      ],
      "execution_count": null,
      "outputs": [
        {
          "output_type": "execute_result",
          "data": {
            "text/html": [
              "<div>\n",
              "<style scoped>\n",
              "    .dataframe tbody tr th:only-of-type {\n",
              "        vertical-align: middle;\n",
              "    }\n",
              "\n",
              "    .dataframe tbody tr th {\n",
              "        vertical-align: top;\n",
              "    }\n",
              "\n",
              "    .dataframe thead th {\n",
              "        text-align: right;\n",
              "    }\n",
              "</style>\n",
              "<table border=\"1\" class=\"dataframe\">\n",
              "  <thead>\n",
              "    <tr style=\"text-align: right;\">\n",
              "      <th></th>\n",
              "      <th>Gender</th>\n",
              "      <th>FSIQ</th>\n",
              "      <th>VIQ</th>\n",
              "      <th>PIQ</th>\n",
              "      <th>Weight</th>\n",
              "      <th>Height</th>\n",
              "      <th>MRI_Count</th>\n",
              "      <th>GenderCat</th>\n",
              "    </tr>\n",
              "  </thead>\n",
              "  <tbody>\n",
              "    <tr>\n",
              "      <th>33</th>\n",
              "      <td>Female</td>\n",
              "      <td>133</td>\n",
              "      <td>129</td>\n",
              "      <td>128</td>\n",
              "      <td>153</td>\n",
              "      <td>66.5</td>\n",
              "      <td>948066</td>\n",
              "      <td>Female</td>\n",
              "    </tr>\n",
              "    <tr>\n",
              "      <th>34</th>\n",
              "      <td>Male</td>\n",
              "      <td>140</td>\n",
              "      <td>150</td>\n",
              "      <td>124</td>\n",
              "      <td>144</td>\n",
              "      <td>70.5</td>\n",
              "      <td>949395</td>\n",
              "      <td>Male</td>\n",
              "    </tr>\n",
              "    <tr>\n",
              "      <th>35</th>\n",
              "      <td>Female</td>\n",
              "      <td>88</td>\n",
              "      <td>86</td>\n",
              "      <td>94</td>\n",
              "      <td>139</td>\n",
              "      <td>64.5</td>\n",
              "      <td>893983</td>\n",
              "      <td>Female</td>\n",
              "    </tr>\n",
              "    <tr>\n",
              "      <th>36</th>\n",
              "      <td>Male</td>\n",
              "      <td>81</td>\n",
              "      <td>90</td>\n",
              "      <td>74</td>\n",
              "      <td>148</td>\n",
              "      <td>74.0</td>\n",
              "      <td>930016</td>\n",
              "      <td>Male</td>\n",
              "    </tr>\n",
              "    <tr>\n",
              "      <th>37</th>\n",
              "      <td>Male</td>\n",
              "      <td>89</td>\n",
              "      <td>91</td>\n",
              "      <td>89</td>\n",
              "      <td>179</td>\n",
              "      <td>75.5</td>\n",
              "      <td>935863</td>\n",
              "      <td>Male</td>\n",
              "    </tr>\n",
              "  </tbody>\n",
              "</table>\n",
              "</div>"
            ],
            "text/plain": [
              "    Gender  FSIQ  VIQ  PIQ  Weight  Height  MRI_Count GenderCat\n",
              "33  Female   133  129  128     153    66.5     948066    Female\n",
              "34    Male   140  150  124     144    70.5     949395      Male\n",
              "35  Female    88   86   94     139    64.5     893983    Female\n",
              "36    Male    81   90   74     148    74.0     930016      Male\n",
              "37    Male    89   91   89     179    75.5     935863      Male"
            ]
          },
          "metadata": {
            "tags": []
          },
          "execution_count": 17
        }
      ]
    },
    {
      "cell_type": "code",
      "metadata": {
        "colab": {
          "base_uri": "https://localhost:8080/",
          "height": 297
        },
        "id": "5t3wUYjod6Zs",
        "outputId": "5b04da6f-439b-4c6b-9cb7-35fc21942963"
      },
      "source": [
        "df[['FSIQ']].describe()"
      ],
      "execution_count": null,
      "outputs": [
        {
          "output_type": "execute_result",
          "data": {
            "text/html": [
              "<div>\n",
              "<style scoped>\n",
              "    .dataframe tbody tr th:only-of-type {\n",
              "        vertical-align: middle;\n",
              "    }\n",
              "\n",
              "    .dataframe tbody tr th {\n",
              "        vertical-align: top;\n",
              "    }\n",
              "\n",
              "    .dataframe thead th {\n",
              "        text-align: right;\n",
              "    }\n",
              "</style>\n",
              "<table border=\"1\" class=\"dataframe\">\n",
              "  <thead>\n",
              "    <tr style=\"text-align: right;\">\n",
              "      <th></th>\n",
              "      <th>FSIQ</th>\n",
              "    </tr>\n",
              "  </thead>\n",
              "  <tbody>\n",
              "    <tr>\n",
              "      <th>count</th>\n",
              "      <td>38.000000</td>\n",
              "    </tr>\n",
              "    <tr>\n",
              "      <th>mean</th>\n",
              "      <td>113.552632</td>\n",
              "    </tr>\n",
              "    <tr>\n",
              "      <th>std</th>\n",
              "      <td>23.815391</td>\n",
              "    </tr>\n",
              "    <tr>\n",
              "      <th>min</th>\n",
              "      <td>77.000000</td>\n",
              "    </tr>\n",
              "    <tr>\n",
              "      <th>25%</th>\n",
              "      <td>90.250000</td>\n",
              "    </tr>\n",
              "    <tr>\n",
              "      <th>50%</th>\n",
              "      <td>116.500000</td>\n",
              "    </tr>\n",
              "    <tr>\n",
              "      <th>75%</th>\n",
              "      <td>135.000000</td>\n",
              "    </tr>\n",
              "    <tr>\n",
              "      <th>max</th>\n",
              "      <td>144.000000</td>\n",
              "    </tr>\n",
              "  </tbody>\n",
              "</table>\n",
              "</div>"
            ],
            "text/plain": [
              "             FSIQ\n",
              "count   38.000000\n",
              "mean   113.552632\n",
              "std     23.815391\n",
              "min     77.000000\n",
              "25%     90.250000\n",
              "50%    116.500000\n",
              "75%    135.000000\n",
              "max    144.000000"
            ]
          },
          "metadata": {
            "tags": []
          },
          "execution_count": 18
        }
      ]
    },
    {
      "cell_type": "code",
      "metadata": {
        "colab": {
          "base_uri": "https://localhost:8080/",
          "height": 235
        },
        "id": "3nyg6PepeBRF",
        "outputId": "4492f266-2f74-4b31-cee8-6438cee6adca"
      },
      "source": [
        "df1.corr()"
      ],
      "execution_count": null,
      "outputs": [
        {
          "output_type": "execute_result",
          "data": {
            "text/html": [
              "<div>\n",
              "<style scoped>\n",
              "    .dataframe tbody tr th:only-of-type {\n",
              "        vertical-align: middle;\n",
              "    }\n",
              "\n",
              "    .dataframe tbody tr th {\n",
              "        vertical-align: top;\n",
              "    }\n",
              "\n",
              "    .dataframe thead th {\n",
              "        text-align: right;\n",
              "    }\n",
              "</style>\n",
              "<table border=\"1\" class=\"dataframe\">\n",
              "  <thead>\n",
              "    <tr style=\"text-align: right;\">\n",
              "      <th></th>\n",
              "      <th>FSIQ</th>\n",
              "      <th>VIQ</th>\n",
              "      <th>PIQ</th>\n",
              "      <th>Weight</th>\n",
              "      <th>Height</th>\n",
              "      <th>MRI_Count</th>\n",
              "    </tr>\n",
              "  </thead>\n",
              "  <tbody>\n",
              "    <tr>\n",
              "      <th>FSIQ</th>\n",
              "      <td>1.000000</td>\n",
              "      <td>0.945114</td>\n",
              "      <td>0.934427</td>\n",
              "      <td>-0.051483</td>\n",
              "      <td>-0.118448</td>\n",
              "      <td>0.333714</td>\n",
              "    </tr>\n",
              "    <tr>\n",
              "      <th>VIQ</th>\n",
              "      <td>0.945114</td>\n",
              "      <td>1.000000</td>\n",
              "      <td>0.776020</td>\n",
              "      <td>-0.076088</td>\n",
              "      <td>-0.118976</td>\n",
              "      <td>0.300279</td>\n",
              "    </tr>\n",
              "    <tr>\n",
              "      <th>PIQ</th>\n",
              "      <td>0.934427</td>\n",
              "      <td>0.776020</td>\n",
              "      <td>1.000000</td>\n",
              "      <td>0.002512</td>\n",
              "      <td>-0.093156</td>\n",
              "      <td>0.377782</td>\n",
              "    </tr>\n",
              "    <tr>\n",
              "      <th>Weight</th>\n",
              "      <td>-0.051483</td>\n",
              "      <td>-0.076088</td>\n",
              "      <td>0.002512</td>\n",
              "      <td>1.000000</td>\n",
              "      <td>0.699614</td>\n",
              "      <td>0.513378</td>\n",
              "    </tr>\n",
              "    <tr>\n",
              "      <th>Height</th>\n",
              "      <td>-0.118448</td>\n",
              "      <td>-0.118976</td>\n",
              "      <td>-0.093156</td>\n",
              "      <td>0.699614</td>\n",
              "      <td>1.000000</td>\n",
              "      <td>0.588377</td>\n",
              "    </tr>\n",
              "    <tr>\n",
              "      <th>MRI_Count</th>\n",
              "      <td>0.333714</td>\n",
              "      <td>0.300279</td>\n",
              "      <td>0.377782</td>\n",
              "      <td>0.513378</td>\n",
              "      <td>0.588377</td>\n",
              "      <td>1.000000</td>\n",
              "    </tr>\n",
              "  </tbody>\n",
              "</table>\n",
              "</div>"
            ],
            "text/plain": [
              "               FSIQ       VIQ       PIQ    Weight    Height  MRI_Count\n",
              "FSIQ       1.000000  0.945114  0.934427 -0.051483 -0.118448   0.333714\n",
              "VIQ        0.945114  1.000000  0.776020 -0.076088 -0.118976   0.300279\n",
              "PIQ        0.934427  0.776020  1.000000  0.002512 -0.093156   0.377782\n",
              "Weight    -0.051483 -0.076088  0.002512  1.000000  0.699614   0.513378\n",
              "Height    -0.118448 -0.118976 -0.093156  0.699614  1.000000   0.588377\n",
              "MRI_Count  0.333714  0.300279  0.377782  0.513378  0.588377   1.000000"
            ]
          },
          "metadata": {
            "tags": []
          },
          "execution_count": 19
        }
      ]
    },
    {
      "cell_type": "code",
      "metadata": {
        "colab": {
          "base_uri": "https://localhost:8080/",
          "height": 332
        },
        "id": "W644qi_beK78",
        "outputId": "554055b1-c670-4acf-dc23-97397bdae971"
      },
      "source": [
        "df3 = pd.read_csv('http://www.statslab.cam.ac.uk/~rds37/teaching/statistical_modelling/Cycling.csv')\r\n",
        "df3.hist()"
      ],
      "execution_count": null,
      "outputs": [
        {
          "output_type": "execute_result",
          "data": {
            "text/plain": [
              "array([[<matplotlib.axes._subplots.AxesSubplot object at 0x7fc9d432e128>,\n",
              "        <matplotlib.axes._subplots.AxesSubplot object at 0x7fc9d3e967b8>]],\n",
              "      dtype=object)"
            ]
          },
          "metadata": {
            "tags": []
          },
          "execution_count": 21
        },
        {
          "output_type": "display_data",
          "data": {
            "image/png": "[encoded data removed]",
            "text/plain": [
              "<Figure size 432x288 with 2 Axes>"
            ]
          },
          "metadata": {
            "tags": [],
            "needs_background": "light"
          }
        }
      ]
    }
  ]
}